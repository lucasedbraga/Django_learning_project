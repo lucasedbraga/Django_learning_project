{
 "cells": [
  {
   "cell_type": "markdown",
   "metadata": {},
   "source": [
    "# Anotações do Curso"
   ]
  },
  {
   "cell_type": "markdown",
   "metadata": {},
   "source": [
    "## Aula01"
   ]
  },
  {
   "cell_type": "markdown",
   "metadata": {},
   "source": [
    "## Aula02 : Criando Pagina\n",
    "\n",
    "\n",
    "python manage.py startapp paginas -> cria os arquivos de paginas\n",
    "\n",
    "* models: é onde vamos criar as classes exemplo: produtos\n",
    "* views: é onde acontece grande parde do código\n",
    "* Progressao/urls = padrao de url e o que vai ser chamado quando chamar a url (algo que temos no views.py)\n",
    "* Em views.py: importar uma classe generica de template, precisa add no settings.py na parte DIRS. O Django pede que a pasta que vamos salvar os html se chame 'templates' (no plural). Criar pagina templates no paginas\n",
    "* alterações nas paginas precisam ser atualizadas no urls.py\n",
    "\n",
    "\n"
   ]
  },
  {
   "cell_type": "markdown",
   "metadata": {},
   "source": [
    "## Aula03: CSS, JS, Imagens\n",
    "\n",
    "Para trabalhar com arquivos estáticos (CSS, javascript, etc) é necessário criar uma pasta na raiz com nome static\n",
    "\n",
    "* Precisa dizer no settings do projeto (Progessao/) o endereço\n",
    "* os endereços devem estar entre {% static endereco %}\n",
    "* arquivos estaticos é só carregar no template usando a notação\n",
    "\n"
   ]
  },
  {
   "cell_type": "markdown",
   "metadata": {},
   "source": [
    "## Aula04: Reutilizando um Template Boostrap\n",
    "\n",
    "* é possivel baixar templates prontos \n",
    "* para criar blocks de conteudo usamos {% block nome %} escreve {% endblock %}\n",
    "* para importar modelos prontos, usamos {% extends endreco %}"
   ]
  }
 ],
 "metadata": {
  "language_info": {
   "name": "python"
  },
  "orig_nbformat": 4
 },
 "nbformat": 4,
 "nbformat_minor": 2
}
