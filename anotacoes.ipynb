{
 "cells": [
  {
   "cell_type": "markdown",
   "metadata": {},
   "source": [
    "# Anotações do Curso"
   ]
  },
  {
   "cell_type": "markdown",
   "metadata": {},
   "source": [
    "## Aula01"
   ]
  },
  {
   "cell_type": "markdown",
   "metadata": {},
   "source": [
    "## Aula02"
   ]
  },
  {
   "cell_type": "markdown",
   "metadata": {},
   "source": [
    "### Criando pagina\n",
    "\n",
    "python manage.py startapp paginas -> cria os arquivos de paginas\n",
    "\n",
    "* models: é onde vamos criar as classes exemplo: produtos\n",
    "* views: é onde acontece grande parde do código\n",
    "* Progressao/urls = padrao de url e o que vai ser chamado quando chamar a url (algo que temos no views.py)\n",
    "* Em views.py: importar uma classe generica de template, precisa add no settings.py na parte DIRS. O Django pede que a pasta que vamos salvar os html se chame 'templates' (no plural). Criar pagina templates no paginas\n",
    "* \n"
   ]
  },
  {
   "cell_type": "markdown",
   "metadata": {},
   "source": []
  }
 ],
 "metadata": {
  "language_info": {
   "name": "python"
  },
  "orig_nbformat": 4
 },
 "nbformat": 4,
 "nbformat_minor": 2
}
