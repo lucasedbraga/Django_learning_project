{
 "cells": [
  {
   "cell_type": "markdown",
   "metadata": {},
   "source": [
    "# Anotações do Curso"
   ]
  },
  {
   "cell_type": "markdown",
   "metadata": {},
   "source": [
    "## Aula01\n",
    "\n",
    "* criando um admin para o site: python manage createsuperuser\n",
    "* python manage migrate\n",
    "* "
   ]
  },
  {
   "cell_type": "markdown",
   "metadata": {},
   "source": [
    "## Aula02 : Criando Pagina\n",
    "\n",
    "\n",
    "python manage.py startapp paginas -> cria os arquivos de paginas\n",
    "\n",
    "* models: é onde vamos criar as classes exemplo: produtos\n",
    "* views: é onde acontece grande parde do código\n",
    "* Progressao/urls = padrao de url e o que vai ser chamado quando chamar a url (algo que temos no views.py)\n",
    "* Em views.py: importar uma classe generica de template, precisa add no settings.py na parte DIRS. O Django pede que a pasta que vamos salvar os html se chame 'templates' (no plural). Criar pagina templates no paginas\n",
    "* alterações nas paginas precisam ser atualizadas no urls.py\n",
    "\n",
    "\n"
   ]
  },
  {
   "cell_type": "markdown",
   "metadata": {},
   "source": [
    "## Aula03: CSS, JS, Imagens\n",
    "\n",
    "Para trabalhar com arquivos estáticos (CSS, javascript, etc) é necessário criar uma pasta na raiz com nome static\n",
    "\n",
    "* Precisa dizer no settings do projeto (Progessao/) o endereço\n",
    "* os endereços devem estar entre {% static endereco %}\n",
    "* arquivos estaticos é só carregar no template usando a notação\n",
    "\n"
   ]
  },
  {
   "cell_type": "markdown",
   "metadata": {},
   "source": [
    "## Aula04: Reutilizando um Template Boostrap\n",
    "\n",
    "* é possivel baixar templates prontos \n",
    "* para criar blocks de conteudo usamos {% block nome %} escreve {% endblock %}\n",
    "* para importar modelos prontos, usamos {% extends endreco %}"
   ]
  },
  {
   "cell_type": "markdown",
   "metadata": {},
   "source": [
    "## Aula07: Introdução para criação de classes e atributos\n",
    "\n",
    "* para criar um modulo, usa django-admin startapp nome\n",
    "* para ativar o modulo vai no sistema principal settings.py dentro de INSTALED_APPS\n",
    "* os modulos podem iteragir entre si (pode criar varios)\n",
    "* para adicionar as tabelas no admin, em admin.py adicionamos as paginas\n",
    "* para criar no banco de dados as tabelas, python manage makemigrations -> python manage migrate"
   ]
  },
  {
   "cell_type": "markdown",
   "metadata": {},
   "source": [
    "## Aula08: Criando um formulário para inserir, atualizar e deletar registros\n",
    "\n",
    "* CreateView é mais utilizado para formularios\n",
    "* para atualizar formularios usa UpdateView\n",
    "* Para selecionar a chave primaria, em urls precisamos informar o < tipo:pk > pk=primary key \n",
    "* Para deletar utilizamos o DeleteView\n",
    "* É importante ter o def __str__ bem definido para printar na tela o object"
   ]
  },
  {
   "cell_type": "markdown",
   "metadata": {},
   "source": []
  },
  {
   "cell_type": "markdown",
   "metadata": {},
   "source": [
    "## Aula09: Listas Registros/Objetos\n",
    "\n",
    "* "
   ]
  }
 ],
 "metadata": {
  "kernelspec": {
   "display_name": "Python 3.10.4 ('venv_django': venv)",
   "language": "python",
   "name": "python3"
  },
  "language_info": {
   "name": "python",
   "version": "3.10.4"
  },
  "orig_nbformat": 4,
  "vscode": {
   "interpreter": {
    "hash": "b8e383137358abc7051133f1b61524322cc688c15f07d2bc8ece02cbb47ceac8"
   }
  }
 },
 "nbformat": 4,
 "nbformat_minor": 2
}
